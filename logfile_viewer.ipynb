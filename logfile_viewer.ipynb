{
 "cells": [
  {
   "cell_type": "code",
   "execution_count": 6,
   "metadata": {},
   "outputs": [],
   "source": [
    "%matplotlib qt\n",
    "import pandas as pd\n",
    "import matplotlib.pyplot as plt\n",
    "import matplotlib.dates as mdates\n",
    "from matplotlib import interactive\n",
    "import numpy as np\n",
    "\n",
    "interactive(True)"
   ]
  },
  {
   "cell_type": "code",
   "execution_count": 7,
   "metadata": {},
   "outputs": [],
   "source": [
    "logfile_folder = \"logfiles/\"\n",
    "# input_filename = \"Woss_Repeater_data_20231009_1688042028_1698402213.csv\"\n",
    "input_filename = \"Woss IT Data 2023-11-11.csv\"\n",
    "\n",
    "columns = {\n",
    "    'Unix'        : 'int64',\n",
    "    'Voltage_1'   : 'float32',\n",
    "    'Voltage_2'   : 'float32',\n",
    "    'Current'     : 'float32',\n",
    "    'Power'       : 'float32',\n",
    "    'Temperature' : 'float32',\n",
    "    'SOC'         : 'float32',\n",
    "    'Power status': 'string'\n",
    "}\n",
    "\n",
    "\n",
    "# Edit these values to change how the data is processed\n",
    "startDate = '2021-11-01'\n",
    "endDate = '2023-12-01'\n",
    "\n",
    "moving_ave_window = 5"
   ]
  },
  {
   "cell_type": "code",
   "execution_count": 8,
   "metadata": {},
   "outputs": [],
   "source": [
    "df = pd.read_csv(logfile_folder + input_filename, names=columns.keys(), sep=',', header=0, dtype=columns)\n",
    "df['dateTime'] = pd.to_datetime(df['Unix'], unit='s')\n",
    "columns['dateTime'] = 'string'"
   ]
  },
  {
   "cell_type": "code",
   "execution_count": 9,
   "metadata": {},
   "outputs": [],
   "source": [
    "# Filter down to the requested date range\n",
    "mask = (df['dateTime'] > startDate) & (df['dateTime'] <= endDate)\n",
    "df = df.loc[mask]"
   ]
  },
  {
   "cell_type": "code",
   "execution_count": 10,
   "metadata": {},
   "outputs": [],
   "source": [
    "movingAve_df = df.copy()\n",
    "\n",
    "for feature_name in df.columns:\n",
    "    if(feature_name == 'DateTime'):\n",
    "        continue\n",
    "    if(columns[feature_name] == 'string'):\n",
    "        continue\n",
    "    movingAve_df[feature_name] = df.rolling(window=moving_ave_window)[feature_name].mean()\n",
    "\n",
    "# Comment out this line to not use the averaged values\n",
    "df = movingAve_df"
   ]
  },
  {
   "cell_type": "code",
   "execution_count": 11,
   "metadata": {},
   "outputs": [],
   "source": [
    "plt.figure()\n",
    "ax = plt.gca()\n",
    "\n",
    "df.plot(x='dateTime', y='Voltage_1', ax=ax, label='Batt Voltage')\n",
    "df.plot(x='dateTime', y='Voltage_2', ax=ax, label='Solar Voltage')\n",
    "\n",
    "plt.title(input_filename)\n",
    "plt.xlabel(\"Date\")\n",
    "plt.ylabel(\"Voltage\")\n",
    "\n",
    "plt.tight_layout()\n",
    "plt.grid()\n",
    "plt.show()"
   ]
  },
  {
   "cell_type": "code",
   "execution_count": 12,
   "metadata": {},
   "outputs": [],
   "source": [
    "# This is needed for the following resamples to work. It breaks things if I do it earlier though. \n",
    "df.set_index('dateTime', inplace=True)"
   ]
  },
  {
   "cell_type": "code",
   "execution_count": 13,
   "metadata": {},
   "outputs": [],
   "source": [
    "# df['dateTime'] = pd.to_datetime(df['dateTime'])\n",
    "# max_solar_per_day = df.groupby(df.dateTime.dt.day)['Voltage_1'].max()\n",
    "\n",
    "# resample the battery voltage and find daily max/mins\n",
    "max_values_per_day = df['Voltage_1'].resample('D').max()\n",
    "min_values_per_day = df['Voltage_1'].resample('D').min()"
   ]
  },
  {
   "cell_type": "code",
   "execution_count": 18,
   "metadata": {},
   "outputs": [],
   "source": [
    "# 2880 pts/day\n",
    "# 1pt/30sec\n",
    "solar_above_12V = df[df['Voltage_2'] > 10]\n",
    "solar_minutes_above_12V_per_day = solar_above_12V.resample('D').count() / 2\n",
    "# print(solar_minutes_above_12V_per_day)\n",
    "\n",
    "solar_minutes_above_12V_per_day['Voltage_2'].plot(label='Minutes of solar power per day')\n",
    "plt.xlabel('Date')\n",
    "plt.ylabel('Number of minutes of solar power')\n",
    "plt.title('Number of minutes of solar power (voltage above 12V) per day')\n",
    "plt.grid(True)\n",
    "plt.show()"
   ]
  },
  {
   "cell_type": "code",
   "execution_count": 15,
   "metadata": {},
   "outputs": [],
   "source": [
    "max_values_per_day.plot(marker='o', linestyle='-', label='maximum voltage', title='Max/Min Battery Voltage per Day')\n",
    "min_values_per_day.plot(marker='o', linestyle='-', label='minimum voltage')\n",
    "plt.xlabel('Date')\n",
    "plt.ylabel('Battery Voltage')\n",
    "plt.grid(True)\n",
    "plt.legend()\n",
    "plt.show()"
   ]
  }
 ],
 "metadata": {
  "kernelspec": {
   "display_name": "Python 3",
   "language": "python",
   "name": "python3"
  },
  "language_info": {
   "codemirror_mode": {
    "name": "ipython",
    "version": 3
   },
   "file_extension": ".py",
   "mimetype": "text/x-python",
   "name": "python",
   "nbconvert_exporter": "python",
   "pygments_lexer": "ipython3",
   "version": "3.11.5"
  },
  "orig_nbformat": 4
 },
 "nbformat": 4,
 "nbformat_minor": 2
}
