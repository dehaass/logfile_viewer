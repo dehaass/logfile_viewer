{
 "cells": [
  {
   "cell_type": "code",
   "execution_count": 45,
   "metadata": {},
   "outputs": [],
   "source": [
    "%matplotlib qt\n",
    "import pandas as pd\n",
    "import matplotlib.pyplot as plt\n",
    "import matplotlib.dates as mdates\n",
    "from matplotlib import interactive\n",
    "import numpy as np\n",
    "\n",
    "interactive(True)"
   ]
  },
  {
   "cell_type": "code",
   "execution_count": 46,
   "metadata": {},
   "outputs": [],
   "source": [
    "logfile_folder = \"logfiles/\"\n",
    "input_filename = \"Woss_Repeater_data_20231009_1688042028_1698402213.csv\"\n",
    "\n",
    "columns = {\n",
    "    'Unix'        : 'int64',\n",
    "    'Voltage_1'   : 'float32',\n",
    "    'Voltage_2'   : 'float32',\n",
    "    'Current'     : 'float32',\n",
    "    'Power'       : 'float32',\n",
    "    'Temperature' : 'float32',\n",
    "    'SOC'         : 'float32',\n",
    "    'Power status': 'string'\n",
    "}\n",
    "\n",
    "startDate = '2021-11-01'\n",
    "endDate = '2023-12-01'\n",
    "\n",
    "moving_ave_window = 100"
   ]
  },
  {
   "cell_type": "code",
   "execution_count": 47,
   "metadata": {},
   "outputs": [],
   "source": [
    "df = pd.read_csv(logfile_folder + input_filename, names=columns.keys(), sep=',', header=0, dtype=columns)\n",
    "df['dateTime'] = pd.to_datetime(df['Unix'], unit='s')\n",
    "columns['dateTime'] = 'string'"
   ]
  },
  {
   "cell_type": "code",
   "execution_count": 48,
   "metadata": {},
   "outputs": [],
   "source": [
    "mask = (df['dateTime'] > startDate) & (df['dateTime'] <= endDate)\n",
    "df = df.loc[mask]"
   ]
  },
  {
   "cell_type": "code",
   "execution_count": 51,
   "metadata": {},
   "outputs": [],
   "source": [
    "movingAve_df = df.copy()\n",
    "\n",
    "for feature_name in df.columns:\n",
    "    if(feature_name == 'DateTime'):\n",
    "        continue\n",
    "    if(columns[feature_name] == 'string'):\n",
    "        continue\n",
    "    movingAve_df[feature_name] = df.rolling(window=moving_ave_window)[feature_name].mean()\n",
    "\n",
    "#df = movingAve_df"
   ]
  },
  {
   "cell_type": "code",
   "execution_count": 52,
   "metadata": {},
   "outputs": [],
   "source": [
    "plt.figure()\n",
    "ax = plt.gca()\n",
    "\n",
    "df.plot(x='dateTime', y='Voltage_1', ax=ax, label='Batt Voltage')\n",
    "df.plot(x='dateTime', y='Voltage_2', ax=ax, label='Solar Voltage')\n",
    "\n",
    "plt.title(input_filename)\n",
    "plt.xlabel(\"Date\")\n",
    "plt.ylabel(\"Voltage\")\n",
    "\n",
    "plt.tight_layout()\n",
    "plt.show()"
   ]
  },
  {
   "cell_type": "code",
   "execution_count": null,
   "metadata": {},
   "outputs": [],
   "source": []
  }
 ],
 "metadata": {
  "kernelspec": {
   "display_name": "Python 3",
   "language": "python",
   "name": "python3"
  },
  "language_info": {
   "codemirror_mode": {
    "name": "ipython",
    "version": 3
   },
   "file_extension": ".py",
   "mimetype": "text/x-python",
   "name": "python",
   "nbconvert_exporter": "python",
   "pygments_lexer": "ipython3",
   "version": "3.11.5"
  },
  "orig_nbformat": 4
 },
 "nbformat": 4,
 "nbformat_minor": 2
}
